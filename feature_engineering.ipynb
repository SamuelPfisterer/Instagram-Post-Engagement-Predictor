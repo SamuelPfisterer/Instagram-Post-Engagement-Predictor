{
 "cells": [
  {
   "cell_type": "code",
   "execution_count": null,
   "metadata": {},
   "outputs": [],
   "source": [
    "# Required imports\n",
    "import pandas as pd\n",
    "import json\n",
    "import datetime as dt\n",
    "import re\n",
    "import emoji\n"
   ]
  },
  {
   "cell_type": "code",
   "execution_count": null,
   "metadata": {},
   "outputs": [],
   "source": [
    "# Load the metadata file\n",
    "csv_file = 'metadata_with_extracted_location.csv'\n",
    "df = pd.read_csv(csv_file)"
   ]
  },
  {
   "cell_type": "markdown",
   "metadata": {},
   "source": [
    "# Engineering Time Features"
   ]
  },
  {
   "cell_type": "code",
   "execution_count": null,
   "metadata": {},
   "outputs": [],
   "source": [
    "# Creating a function that we apply to the dataframe column 'timestamp'. The function takes each value of this column\n",
    "# , which is a timestamp in the float format and returns the corresponding data-time object to this timestamp\n",
    "# Input: 'timestamp' - value of the 'timestamp' column, which is a float\n",
    "# Output: the date-time object corresponding to the input's timestamp\n",
    "def create_date_time(timestamp):\n",
    "    try:\n",
    "        return dt.datetime.fromtimestamp(timestamp) \n",
    "    \n",
    "    except: \n",
    "        print(timestamp)\n",
    "        print(type(timestamp))"
   ]
  },
  {
   "cell_type": "code",
   "execution_count": null,
   "metadata": {},
   "outputs": [],
   "source": [
    "# We have to drop rows, where the 'timestamp' column's value is NaN\n",
    "df = df.dropna(subset=['timestamp'])"
   ]
  },
  {
   "cell_type": "code",
   "execution_count": null,
   "metadata": {},
   "outputs": [],
   "source": [
    "# We apply our defined method, i.e. convert all timestamps into a date-time format and store it in a new column called 'Date-Time'\n",
    "df['Date-Time'] = df['timestamp'].apply(create_date_time)\n"
   ]
  },
  {
   "cell_type": "code",
   "execution_count": null,
   "metadata": {},
   "outputs": [],
   "source": [
    "# We extract the year, month, day, weekday, hour of each date-time value and store it in seperate columns\n",
    "df['year'] = df['Date-Time'].dt.year\n",
    "df['month'] = df['Date-Time'].dt.month\n",
    "df['day'] = df['Date-Time'].dt.day\n",
    "df['weekday'] = df['Date-Time'].dt.weekday\n",
    "df['hour'] = df['Date-Time'].dt.hour "
   ]
  },
  {
   "cell_type": "markdown",
   "metadata": {},
   "source": [
    "# Engineering the Caption"
   ]
  },
  {
   "cell_type": "code",
   "execution_count": null,
   "metadata": {},
   "outputs": [],
   "source": [
    "# We define three functions that extract relevant information from the caption\n",
    "\n",
    "# Takes the caption as an input and returns the number of hashtags in the caption\n",
    "def count_hashtags(caption):\n",
    "    if pd.isna(caption): \n",
    "        return 0\n",
    "    else:\n",
    "        return len(re.findall(r'#\\w+', caption))\n",
    "\n",
    "\n",
    "# Takes the caption as an input and returns the number of emojis in the caption\n",
    "def count_emojis(caption):\n",
    "    if pd.isna(caption): \n",
    "        return 0\n",
    "    else:\n",
    "        return len([char for char in caption if char in emoji.EMOJI_DATA])\n",
    "\n",
    "# Takes the caption as an input and returns the length of the caption\n",
    "def compute_caption_length(caption):\n",
    "    if pd.isna(caption): \n",
    "        return 0\n",
    "    else:\n",
    "        return len(caption)"
   ]
  },
  {
   "cell_type": "code",
   "execution_count": null,
   "metadata": {},
   "outputs": [],
   "source": [
    "df.columns"
   ]
  },
  {
   "cell_type": "code",
   "execution_count": null,
   "metadata": {},
   "outputs": [],
   "source": [
    "df[pd.isna(df['caption_text'])].shape"
   ]
  },
  {
   "cell_type": "code",
   "execution_count": null,
   "metadata": {},
   "outputs": [],
   "source": [
    "df['caption_text'].head()"
   ]
  },
  {
   "cell_type": "code",
   "execution_count": null,
   "metadata": {},
   "outputs": [],
   "source": [
    "# We apply the functions, extracting the num_hashtags, num_emojis and the caption_lenght, for each caption\n",
    "# and storing these values in seperate columns\n",
    "\n",
    "df['num_hashtags'] = df['caption_text'].apply(count_hashtags)\n",
    "df['num_emojis'] = df['caption_text'].apply(count_emojis)\n",
    "df['caption_length'] = df['caption_text'].apply(compute_caption_length)"
   ]
  },
  {
   "cell_type": "markdown",
   "metadata": {},
   "source": [
    "# Storing the final Dataframe"
   ]
  },
  {
   "cell_type": "code",
   "execution_count": null,
   "metadata": {},
   "outputs": [],
   "source": [
    "# Storing the dataframe to a csv file called 'feature_engineered_metadata\n",
    "df.to_csv('feature_engineered_metadata.csv', index=False)"
   ]
  }
 ],
 "metadata": {
  "kernelspec": {
   "display_name": "base",
   "language": "python",
   "name": "python3"
  },
  "language_info": {
   "codemirror_mode": {
    "name": "ipython",
    "version": 3
   },
   "file_extension": ".py",
   "mimetype": "text/x-python",
   "name": "python",
   "nbconvert_exporter": "python",
   "pygments_lexer": "ipython3",
   "version": "3.9.19"
  }
 },
 "nbformat": 4,
 "nbformat_minor": 2
}
